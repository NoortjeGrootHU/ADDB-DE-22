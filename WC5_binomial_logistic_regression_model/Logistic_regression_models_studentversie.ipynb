{
 "cells": [
  {
   "cell_type": "code",
   "execution_count": null,
   "metadata": {
    "colab": {
     "base_uri": "https://localhost:8080/",
     "height": 17
    },
    "executionInfo": {
     "elapsed": 9,
     "status": "ok",
     "timestamp": 1657699395281,
     "user": {
      "displayName": "Machiel Bouwmans",
      "userId": "11402563479032225518"
     },
     "user_tz": -120
    },
    "id": "kneTWWOMdrBR",
    "outputId": "1d40da06-d7fb-4fc3-93b8-d9effa14862f"
   },
   "outputs": [],
   "source": [
    "%%html\n",
    "<style> \n",
    "table {margin-left: 0 !important;}\n",
    "table td, table th, table tr {text-align:left !important;}\n",
    "</style>"
   ]
  },
  {
   "cell_type": "markdown",
   "metadata": {
    "id": "D2uEgSH5drBT"
   },
   "source": [
    "<div>\n",
    "<img src=\"attachment:Bovag.jpg\" width=\"400\">\n",
    "</div>"
   ]
  },
  {
   "cell_type": "markdown",
   "metadata": {
    "id": "TeFc8WAOdrBV"
   },
   "source": [
    "# Multiple Binomial Logistic Regression Models - Groepsopdracht voor werkcollege\n",
    "\n",
    "## Casus\n",
    "De Hogeschool Utrecht (HU) heeft zo’n 4.000 werknemers in dienst. Elk jaar vertrekt echter zo’n 15% van de werknemers en de corporate HRM afdeling heeft de taak om deze werknemers te vervangen. Het kost veel tijd en geld om geschikte werknemers te vinden, omdat er sprake is van een krappe arbeidsmarkt (er zijn meer vacatures dan werkzoekenden). \n",
    "\n",
    "Daarom wil de HU investeren in het *behouden* van werknemers, om zo het vertrekpercentage te verlagen. Het management heeft daarom aan het People Analytics team gevraagd te onderzoeken welke factoren het vertrek van werknemers kunnen verklaren, zodat gerichte interventies kunnen worden ingezet om werknemers te behouden. Jullie werken voor het People Analytics team en gaan onderzoeken welke factoren vertrek voorspellen. Dat doen jullie op basis van een dataset met daarin 4.410 (oud-)werknemers van de HU.\n",
    "\n",
    "Jullie gaan een **hiërarchisch regressiemodel** bouwen en passen daarbij **het principe van parsimony** toe om te komen tot het meest simpele voorspellend model. Op basis van eerdere onderzoeken naar oorzaken van vertrek bouwen jullie het multiple regressie model in drie stappen op (of: 3 modellen). Hieronder staat toegelicht welke predictoren in elk model worden toegevoegd.  \n",
    "\n",
    "Vertrek (Y) wordt gemeten als *de medewerker is in het afgelopen jaar vertrokken (ja/nee)*, heeft als variabelenaam ***Attrition_rec*** en is van *nominaal* meetniveau.\n",
    "\n",
    "In onderstaande tabel zie je welke predictoren (X) je in welk model moet opnemen:\n"
   ]
  },
  {
   "cell_type": "markdown",
   "metadata": {
    "id": "RcbH48O2drBW"
   },
   "source": [
    "| Model | Predictor (X) | Variabelenaam | Meetniveau |\n",
    "| :--- | :--- | :--- | :--- |\n",
    "| 1 | Leeftijd | Age | Ratio |\n",
    "| 1 | Opleidingsniveau | Education | Ordinaal |\n",
    "| 1 | Geslacht | Gender | Nominaal | \n",
    "| 1 | Aantal organisaties waarvoor de werknemer gewerkt heeft | NumCompaniesWorked | Ratio | \n",
    "| 1 | Jaren werkervaring | TotalWorkingYears | Ratio |\n",
    "| 2 | Maandsalaris | MonthlyIncome| Ratio |\n",
    "| 2 | Reisafstand in kilometers | DistanceFromHome | Ratio |\n",
    "| 2 | Jaren sinds laatste promotie | YearsSinceLastPromotion | Ratio |\n",
    "| 2 | Performancescore | PerformanceRating | Interval |\n",
    "| 2 | Aantal jaren werkzaam onder huidige manager | YearsWithCurrManager | Ratio |\n",
    "| 3 | Werktevredenheid | JobSatisfaction | Interval |\n",
    "| 3 | Werk-privé balans | WorkLifeBalance | Interval |\n",
    "| 3 | Werkbetrokkenheid | JobInvolvement | Interval |"
   ]
  },
  {
   "cell_type": "markdown",
   "metadata": {
    "id": "vefHbys7drBX"
   },
   "source": [
    "**Voetnoten bij tabel**\n",
    "1. *Maandsalaris*: Het maandsalaris wordt weergegeven in roepies (Indiase munteendheid). Dat is natuurlijk raar, wij als HU-docenten krijgen gewoon in euro’s uitbetaald. We hadden een creatieve reden kunnen bedenken waarom hier roepies staan, maar jullie snappen de echte reden vast wel: het is een fictief bestand, gemaakt door Indiase HRM docent, waarvan wij met toestemming dankbaar gebruik van maken voor onze eigen fictieve casus. \n",
    "2. *Interval variabelen*: Deze schalen zijn eigenlijk van ordinaal meetniveau. In de praktijk worden schalen van ordinaal meetniveau met een structuur die lijkt op een Likert-schaal vaak behandeld als schalen van interval niveau. Dat doen wij hier ook. Daarop is uiteraard kritiek te leveren, maar die negeren wij voor deze opdracht voor ons gemak even."
   ]
  },
  {
   "cell_type": "markdown",
   "metadata": {
    "id": "-6OmJpOPdrBX"
   },
   "source": [
    "We gaan nu R code runnen in een notebook, daarvoor moeten we gebruik maken van het package rpy2. Die importeren we, en door die te laden met %load_ext rpy2.ipython kunnen we R code runnen in de cellen van dit notebook. Wel moet je dan je cell laten beginnen met %%R. Doe je dat niet, dan kun je gewoon python-code runnen.\n"
   ]
  },
  {
   "cell_type": "code",
   "execution_count": null,
   "metadata": {
    "executionInfo": {
     "elapsed": 1660,
     "status": "ok",
     "timestamp": 1663681289504,
     "user": {
      "displayName": "Machiel Bouwmans",
      "userId": "11402563479032225518"
     },
     "user_tz": -120
    },
    "id": "YvA7j23ldrBY"
   },
   "outputs": [],
   "source": [
    "import rpy2.rinterface\n",
    "\n",
    "%load_ext rpy2.ipython"
   ]
  },
  {
   "cell_type": "markdown",
   "metadata": {
    "id": "RfPFDryBijqG"
   },
   "source": [
    "We installeren de benodigde R-packages en importeren ze. Importeren gaat in R in met de library() functie."
   ]
  },
  {
   "cell_type": "code",
   "execution_count": null,
   "metadata": {
    "colab": {
     "base_uri": "https://localhost:8080/"
    },
    "executionInfo": {
     "elapsed": 346755,
     "status": "ok",
     "timestamp": 1663681638923,
     "user": {
      "displayName": "Machiel Bouwmans",
      "userId": "11402563479032225518"
     },
     "user_tz": -120
    },
    "id": "Q6Y5EEPxehrE",
    "outputId": "65029f2a-0d2f-4be3-c2a2-856763c0372c",
    "tags": []
   },
   "outputs": [],
   "source": [
    "%%R\n",
    "install.packages('DescTools')\n",
    "install.packages('caret')\n",
    "install.packages('RCurl')\n",
    "library(dplyr)\n",
    "library(DescTools)\n",
    "library(caret)\n",
    "library(RCurl)"
   ]
  },
  {
   "cell_type": "markdown",
   "metadata": {
    "id": "t1579BQnjVLd"
   },
   "source": [
    "Laad nu de data in door de volgende cel te runnen"
   ]
  },
  {
   "cell_type": "code",
   "execution_count": null,
   "metadata": {
    "colab": {
     "base_uri": "https://localhost:8080/"
    },
    "executionInfo": {
     "elapsed": 1622,
     "status": "ok",
     "timestamp": 1663681710897,
     "user": {
      "displayName": "Machiel Bouwmans",
      "userId": "11402563479032225518"
     },
     "user_tz": -120
    },
    "id": "5JAgcgEdjnAR",
    "outputId": "5dfe460a-111f-4572-812f-5a601589d07d"
   },
   "outputs": [],
   "source": [
    "%%R\n",
    "tekst = getURL(\"https://raw.githubusercontent.com/uashogeschoolutrecht/ADDB-DE-22/master/WC5_binomial_logistic_regression_model/General_data.csv\")\n",
    "hrdata <- read.csv(text = tekst, sep =\";\")\n",
    "head(hrdata)"
   ]
  },
  {
   "cell_type": "markdown",
   "metadata": {
    "id": "p5N9eCm0j0ZF"
   },
   "source": [
    "Om de analyses te runnen moeten we de afhankelijke variable (Attrition) omzetten naar het type 'factor'. Je hoeft niet te weten hoe dat moet, maar dit wordt voor je gedaan in de onderstaande cell.\n",
    "Ook worden de missing values verwijderd, met na.omit()."
   ]
  },
  {
   "cell_type": "code",
   "execution_count": null,
   "metadata": {
    "executionInfo": {
     "elapsed": 4,
     "status": "ok",
     "timestamp": 1663681715460,
     "user": {
      "displayName": "Machiel Bouwmans",
      "userId": "11402563479032225518"
     },
     "user_tz": -120
    },
    "id": "H5Mabc_7fErP"
   },
   "outputs": [],
   "source": [
    "%%R\n",
    "#maak factor van afhankele variabele\n",
    "hrdata <- hrdata %>% mutate(Attrition = ifelse(Attrition==\"No\", 0, 1))\n",
    "hrdata$Attrition <- as.factor(hrdata$Attrition)\n",
    "#drop nas\n",
    "hrdata <- na.omit(hrdata)"
   ]
  },
  {
   "cell_type": "markdown",
   "metadata": {
    "id": "YIciDvxmdrBZ"
   },
   "source": [
    "## Stap 1: Dummy variabelen maken \n",
    "\n",
    "In stap 2 worden de variabelen Education en Gender toegevoegd. Dit zijn categorische variabelen waarvan eerst dummy variabelen worden gemaakt. \n",
    "- Maak de dummy variabelen aan met Education type ‘Bachelor’ als baseline categorie. Oftewel, maak vier dummy variabelen aan: Below_college, College, Master en Doctor. \n",
    "- Maak de dummy variabelen aan voor vrouwen, genaamd Female. \n",
    "  "
   ]
  },
  {
   "cell_type": "markdown",
   "metadata": {
    "id": "cmOyG74fkURo"
   },
   "source": [
    "Je hoeft niet zelf uit te zoeken hoe dat in R moet, je kunt onderstaande cellen runnen om de dummies aan te maken."
   ]
  },
  {
   "cell_type": "code",
   "execution_count": null,
   "metadata": {
    "executionInfo": {
     "elapsed": 316,
     "status": "ok",
     "timestamp": 1663681719154,
     "user": {
      "displayName": "Machiel Bouwmans",
      "userId": "11402563479032225518"
     },
     "user_tz": -120
    },
    "id": "f9gnHRPOfPH7"
   },
   "outputs": [],
   "source": [
    "%%R\n",
    "#dummy for education\n",
    "hrdata$Education <- as.factor(hrdata$Education)\n",
    "hr_edu = hrdata[c(\"Education\")]\n",
    "dmy <- caret::dummyVars(\" ~ .\", data = hr_edu)\n",
    "hr_edu = as.data.frame(predict(dmy, newdata = hr_edu))\n",
    "hrdata <- cbind(hrdata, hr_edu[c(\"Education.2\",\"Education.3\",\"Education.4\",\"Education.5\")])\n",
    "rm(hr_edu)"
   ]
  },
  {
   "cell_type": "code",
   "execution_count": null,
   "metadata": {
    "executionInfo": {
     "elapsed": 267,
     "status": "ok",
     "timestamp": 1663681720977,
     "user": {
      "displayName": "Machiel Bouwmans",
      "userId": "11402563479032225518"
     },
     "user_tz": -120
    },
    "id": "wKaxEWBgfaJb"
   },
   "outputs": [],
   "source": [
    "%%R\n",
    "#dummy for gender\n",
    "hr_gender = hrdata[c(\"Gender\")]\n",
    "dmy <- caret::dummyVars(\" ~ .\", data = hr_gender)\n",
    "hr_gender = as.data.frame(predict(dmy, newdata = hr_gender))\n",
    "hrdata <- cbind(hrdata, hr_gender[c(\"GenderFemale\")])\n",
    "rm(hr_gender)"
   ]
  },
  {
   "cell_type": "markdown",
   "metadata": {
    "id": "b3etRSDTdrBa"
   },
   "source": [
    "## Stap 2 - Multiple Binomial Logistic Regression Models\n",
    "\n",
    "Voer de multiple binomial logistic regression models uit in R en beantwoord de vragen. Je moet hiervoor alle onderstaande codes runnen. "
   ]
  },
  {
   "cell_type": "markdown",
   "metadata": {
    "id": "BTOLkVAgo29w"
   },
   "source": [
    "**Hieronder staat de syntax voor het runnen van Model 1:**"
   ]
  },
  {
   "cell_type": "code",
   "execution_count": null,
   "metadata": {
    "colab": {
     "base_uri": "https://localhost:8080/"
    },
    "executionInfo": {
     "elapsed": 2165,
     "status": "ok",
     "timestamp": 1663681745729,
     "user": {
      "displayName": "Machiel Bouwmans",
      "userId": "11402563479032225518"
     },
     "user_tz": -120
    },
    "id": "Eu6-Bm8ffhH6",
    "outputId": "36e6baa2-949b-4ab5-f008-c2592323dc92"
   },
   "outputs": [],
   "source": [
    "%%R\n",
    "#train eerste model\n",
    "null_model = glm(formula = Attrition ~ 1, data = hrdata, binomial(\"logit\"))\n",
    "model1 = glm(formula = Attrition ~ Age + Education.2 + Education.3 + Education.4 + Education.5 +\n",
    "                GenderFemale+NumCompaniesWorked + TotalWorkingYears,\n",
    "              data = hrdata, family = binomial(\"logit\"))\n",
    "odds_ratio = exp(model1$coefficients)\n",
    "exp(confint(model1))"
   ]
  },
  {
   "cell_type": "code",
   "execution_count": null,
   "metadata": {
    "colab": {
     "base_uri": "https://localhost:8080/"
    },
    "executionInfo": {
     "elapsed": 227,
     "status": "ok",
     "timestamp": 1663681750388,
     "user": {
      "displayName": "Machiel Bouwmans",
      "userId": "11402563479032225518"
     },
     "user_tz": -120
    },
    "id": "RZ9V3YAYh3QR",
    "outputId": "99a28328-4bcc-41d1-a17c-7329572a34a7"
   },
   "outputs": [],
   "source": [
    "%%R\n",
    "#Compute pseudo R-squares\n",
    "DescTools::PseudoR2(model1, which = c(\"CoxSnell\",\"Nagelkerke\"))"
   ]
  },
  {
   "cell_type": "code",
   "execution_count": null,
   "metadata": {
    "colab": {
     "base_uri": "https://localhost:8080/"
    },
    "executionInfo": {
     "elapsed": 753,
     "status": "ok",
     "timestamp": 1663681752756,
     "user": {
      "displayName": "Machiel Bouwmans",
      "userId": "11402563479032225518"
     },
     "user_tz": -120
    },
    "id": "SsywYxbKfm_X",
    "outputId": "002f27f8-f496-41b3-cc48-6311e7e7e983"
   },
   "outputs": [],
   "source": [
    "%%R\n",
    "summary(model1)\n"
   ]
  },
  {
   "cell_type": "markdown",
   "metadata": {
    "id": "O5_GoesUnuz1"
   },
   "source": [
    "Door onderstaande code te runnen, vergelijk je de Chi-square van model 1 (met predictoren, in de output model 2 genoemd) met model 0 zonder predictoren (in de output model 1 genoemd)"
   ]
  },
  {
   "cell_type": "code",
   "execution_count": null,
   "metadata": {
    "colab": {
     "base_uri": "https://localhost:8080/"
    },
    "executionInfo": {
     "elapsed": 292,
     "status": "ok",
     "timestamp": 1663681756162,
     "user": {
      "displayName": "Machiel Bouwmans",
      "userId": "11402563479032225518"
     },
     "user_tz": -120
    },
    "id": "BpAHGYvdhqKn",
    "outputId": "d5fdcd6a-8b99-47a8-d269-d7bd1dc87073"
   },
   "outputs": [],
   "source": [
    "%%R \n",
    "anova(null_model, model1, test = \"Chisq\")"
   ]
  },
  {
   "cell_type": "markdown",
   "metadata": {
    "id": "N0eounnPo-Xx"
   },
   "source": [
    "**Hieronder staat de syntax voor het runnen van Model 2:**"
   ]
  },
  {
   "cell_type": "code",
   "execution_count": null,
   "metadata": {
    "colab": {
     "base_uri": "https://localhost:8080/"
    },
    "executionInfo": {
     "elapsed": 575,
     "status": "ok",
     "timestamp": 1663681758935,
     "user": {
      "displayName": "Machiel Bouwmans",
      "userId": "11402563479032225518"
     },
     "user_tz": -120
    },
    "id": "u_PCbNjbfzjt",
    "outputId": "ac382216-98a2-4af1-9bdf-615e2194605c"
   },
   "outputs": [],
   "source": [
    "%%R\n",
    "#model 2\n",
    "model2 = glm(formula = Attrition ~ Age + Education.2 + Education.3 + Education.4 + Education.5 +\n",
    "                GenderFemale+NumCompaniesWorked + TotalWorkingYears + MonthlyIncome + DistanceFromHome +\n",
    "                YearsSinceLastPromotion + PerformanceRating + YearsWithCurrManager,\n",
    "              data = hrdata, family = binomial(\"logit\"))\n",
    "summary(model2)\n"
   ]
  },
  {
   "cell_type": "code",
   "execution_count": null,
   "metadata": {
    "colab": {
     "base_uri": "https://localhost:8080/"
    },
    "executionInfo": {
     "elapsed": 272,
     "status": "ok",
     "timestamp": 1663681762657,
     "user": {
      "displayName": "Machiel Bouwmans",
      "userId": "11402563479032225518"
     },
     "user_tz": -120
    },
    "id": "Xc9alrhdiB8K",
    "outputId": "824e2b02-605b-42f1-89d6-f534fcc20836"
   },
   "outputs": [],
   "source": [
    "%%R\n",
    "print(DescTools::PseudoR2(model2, which = c(\"CoxSnell\",\"Nagelkerke\")))"
   ]
  },
  {
   "cell_type": "markdown",
   "metadata": {
    "id": "OIOsNxueoJbh"
   },
   "source": [
    "Door onderstaande code te runnen, vergelijk je de Chi-square van model 2 (met predictoren, in de output model 2 genoemd) eerst met model 1, met daarin minder predictoren (in de output model 1 genoemd), en vervolgens met model 0 zonder preidcotren (in de output ook weer model 1 genoemd)."
   ]
  },
  {
   "cell_type": "code",
   "execution_count": null,
   "metadata": {
    "colab": {
     "base_uri": "https://localhost:8080/"
    },
    "executionInfo": {
     "elapsed": 335,
     "status": "ok",
     "timestamp": 1663681765161,
     "user": {
      "displayName": "Machiel Bouwmans",
      "userId": "11402563479032225518"
     },
     "user_tz": -120
    },
    "id": "7H_RIIOqgJDj",
    "outputId": "f3f9ad8e-12b8-4748-c968-25c1990ef577"
   },
   "outputs": [],
   "source": [
    "%%R\n",
    "#Compute chi square\n",
    "print(anova(model1, model2, test = \"Chisq\"))\n",
    "print(anova(null_model, model2, test = \"Chisq\"))\n"
   ]
  },
  {
   "cell_type": "markdown",
   "metadata": {
    "id": "UyAs1HQYpB9H"
   },
   "source": [
    "**Hieronder staat de syntax voor het runnen van Model 3:**"
   ]
  },
  {
   "cell_type": "code",
   "execution_count": null,
   "metadata": {
    "colab": {
     "base_uri": "https://localhost:8080/"
    },
    "executionInfo": {
     "elapsed": 716,
     "status": "ok",
     "timestamp": 1663681769635,
     "user": {
      "displayName": "Machiel Bouwmans",
      "userId": "11402563479032225518"
     },
     "user_tz": -120
    },
    "id": "TTTkhnmTgPzw",
    "outputId": "f9e97ea1-fe82-4c12-d5cd-54c6840d362a"
   },
   "outputs": [],
   "source": [
    "%%R\n",
    "#model 3\n",
    "formula = Attrition ~ Age + Education.2 + Education.3 + Education.4 + Education.5 +\n",
    "  GenderFemale+NumCompaniesWorked + TotalWorkingYears + MonthlyIncome + DistanceFromHome +\n",
    "  YearsSinceLastPromotion + PerformanceRating + YearsWithCurrManager +\n",
    "  JobSatisfaction + WorkLifeBalance + JobInvolvement\n",
    "\n",
    "model3 = glm(formula = formula,\n",
    "              data = hrdata, family = binomial(\"logit\"))\n",
    "\n",
    "print(summary(model3))\n"
   ]
  },
  {
   "cell_type": "markdown",
   "metadata": {
    "id": "YYi_N9BppHEg"
   },
   "source": [
    "**Let op:** Voor model 3 vragen we ook de Odds ratio's en bijbehorende confidence intervals op. Deze gaan we inhoudelijk interpreteren. "
   ]
  },
  {
   "cell_type": "code",
   "execution_count": null,
   "metadata": {
    "colab": {
     "base_uri": "https://localhost:8080/"
    },
    "executionInfo": {
     "elapsed": 582,
     "status": "ok",
     "timestamp": 1663681777646,
     "user": {
      "displayName": "Machiel Bouwmans",
      "userId": "11402563479032225518"
     },
     "user_tz": -120
    },
    "id": "Ves9dcuC18Sq",
    "outputId": "0a78c5ea-aa26-4d2f-bd7b-142e8488b6f5"
   },
   "outputs": [],
   "source": [
    "%%R\n",
    "exp(cbind(\"Odds ratio\" = coef(model3), confint.default(model3, level = 0.95)))"
   ]
  },
  {
   "cell_type": "code",
   "execution_count": null,
   "metadata": {
    "colab": {
     "base_uri": "https://localhost:8080/"
    },
    "executionInfo": {
     "elapsed": 218,
     "status": "ok",
     "timestamp": 1663673356833,
     "user": {
      "displayName": "Machiel Bouwmans",
      "userId": "11402563479032225518"
     },
     "user_tz": -120
    },
    "id": "HX5Rp0ADiSCZ",
    "outputId": "0c25fbc5-de26-4c35-905c-d78f32be61a3"
   },
   "outputs": [],
   "source": [
    "%%R\n",
    "DescTools::PseudoR2(model3, which = c(\"CoxSnell\",\"Nagelkerke\"))"
   ]
  },
  {
   "cell_type": "markdown",
   "metadata": {
    "id": "fA8wlDfGogc7"
   },
   "source": [
    "Door onderstaande code te runnen, vergelijk je de Chi-square van model 3 (met predictoren, in de output model 2 genoemd) eerst met model 2, met daarin minder predictoren (in de output model 1 genoemd), en vervolgens met model 0 zonder predictoren (in de output ook weer model 1 genoemd)."
   ]
  },
  {
   "cell_type": "code",
   "execution_count": null,
   "metadata": {
    "colab": {
     "base_uri": "https://localhost:8080/"
    },
    "executionInfo": {
     "elapsed": 1110,
     "status": "ok",
     "timestamp": 1663673360950,
     "user": {
      "displayName": "Machiel Bouwmans",
      "userId": "11402563479032225518"
     },
     "user_tz": -120
    },
    "id": "Ph2xCDVIgS9y",
    "outputId": "48f96dbd-ff15-406c-f90c-8218e900cd12"
   },
   "outputs": [],
   "source": [
    "%%R\n",
    "print(anova(model2, model3, test = \"Chisq\"))\n",
    "print(anova(null_model, model3, test = \"Chisq\"))"
   ]
  },
  {
   "cell_type": "markdown",
   "metadata": {
    "id": "rlybLoDTdrBc"
   },
   "source": [
    "### Vraag 1\n",
    "*Interpreteer de pseudo R squares en concludeer welk model het beste het vertrek van werknemers voorspelt én hoe goed dit model het vertrek van werknemers voorspelt.* "
   ]
  },
  {
   "cell_type": "markdown",
   "metadata": {
    "id": "3BgHgp_1drBc"
   },
   "source": [
    "Typ hier je antwoord"
   ]
  },
  {
   "cell_type": "markdown",
   "metadata": {
    "id": "Vn4fm-nJdrBc"
   },
   "source": [
    "### Vraag 2\n",
    "*Interpreteer de Chi squares m.b.t. verbetering ten opzichte van vorige modellen en trek een passende conclusie over de model fit.* "
   ]
  },
  {
   "cell_type": "markdown",
   "metadata": {
    "id": "OI9TIlKcdrBd"
   },
   "source": [
    "Typ hier je antwoord"
   ]
  },
  {
   "cell_type": "markdown",
   "metadata": {
    "id": "xJmgPiXQdrBd"
   },
   "source": [
    "### Vraag 3\n",
    "*Interpreteer voor model 3 per predictor, indien relevant, de odds ratio en significantie (o.b.v. de confidence intervals) zeer nauwkeurig.*"
   ]
  },
  {
   "cell_type": "markdown",
   "metadata": {
    "id": "VV9PqB_jdrBd"
   },
   "source": [
    "Typ hier je antwoord"
   ]
  },
  {
   "cell_type": "markdown",
   "metadata": {
    "id": "iUkFmsv1drBe"
   },
   "source": [
    "## Stap 3 - Model Parsimony\n",
    "\n",
    "- Verwijder alle *niet significante predictoren* uit model 3 en run het model opnieuw. \n",
    "- Bereken vervolgens de AIC voor model 3 met álle predictoren *en* de AIC voor model 3 met álleen significante predictoren. \n",
    "- Beantwoord daarna onderstaande vragen.   "
   ]
  },
  {
   "cell_type": "code",
   "execution_count": null,
   "metadata": {
    "colab": {
     "base_uri": "https://localhost:8080/"
    },
    "executionInfo": {
     "elapsed": 312,
     "status": "ok",
     "timestamp": 1663673366719,
     "user": {
      "displayName": "Machiel Bouwmans",
      "userId": "11402563479032225518"
     },
     "user_tz": -120
    },
    "id": "bXF-TCn8gWbI",
    "outputId": "49a8096d-7998-43b5-a1b6-088082b917ad"
   },
   "outputs": [],
   "source": [
    "%%R\n",
    "#model 4 wordt berekend met enkel de significante predictoren\n",
    "model4 = glm(formula = Attrition ~ Age + NumCompaniesWorked + TotalWorkingYears + MonthlyIncome +\n",
    "               YearsSinceLastPromotion + YearsWithCurrManager +\n",
    "               JobSatisfaction + WorkLifeBalance,\n",
    "             data = hrdata, family = binomial(\"logit\"))\n",
    "\n",
    "\n",
    "print(AIC(model3))\n",
    "print(AIC(model4))\n"
   ]
  },
  {
   "cell_type": "markdown",
   "metadata": {
    "id": "6jogONj6drBe"
   },
   "source": [
    "### Vraag 1\n",
    "*Leidt het verwijderen van niet significante predictoren daadwerkelijk tot een meer ‘parsimonious’ model? Licht je antwoord toe.* "
   ]
  },
  {
   "cell_type": "markdown",
   "metadata": {
    "id": "IGTITboXdrBe"
   },
   "source": [
    "Typ hier je antwoord"
   ]
  },
  {
   "cell_type": "markdown",
   "metadata": {
    "id": "UquErACJdrBe"
   },
   "source": [
    "## Stap 4 - Conclusies en advies\n",
    "\n",
    "*Trek conclusies en breng op basis van bovenstaande resultaten een advies uit aan de opdrachtgevers van de HU.* \n",
    "\n",
    "Zorg ervoor dat je conclusies en advies aan de volgende criteria voldoen:\n",
    "- Conclusies: Geef een korte beschrijving van resultaten in **‘lekentaal’** (te begrijpen voor iemand zonder veel kennis van statistiek) en verwerk daarin ook de verklaarde variantie. Betrek hierin ook de model parsimomy.\n",
    "- Advies: Geef concrete aanbevelingen. Schrijf bijvoorbeeld niet alleen op ‘er is vervolgonderzoek nodig’, of ‘interventies moeten gericht zijn op variabele Y’, maar geef ook concrete suggesties. "
   ]
  },
  {
   "cell_type": "markdown",
   "metadata": {
    "id": "RVUAZHwvdrBf"
   },
   "source": [
    "Typ hier jullie conclusies in lekentaal"
   ]
  },
  {
   "cell_type": "markdown",
   "metadata": {
    "id": "MQ45p5pndrBf"
   },
   "source": [
    "Typ hier jullie advies"
   ]
  }
 ],
 "metadata": {
  "colab": {
   "collapsed_sections": [],
   "provenance": []
  },
  "kernelspec": {
   "display_name": "Python 3 (ipykernel)",
   "language": "python",
   "name": "python3"
  },
  "language_info": {
   "codemirror_mode": {
    "name": "ipython",
    "version": 3
   },
   "file_extension": ".py",
   "mimetype": "text/x-python",
   "name": "python",
   "nbconvert_exporter": "python",
   "pygments_lexer": "ipython3",
   "version": "3.8.2"
  }
 },
 "nbformat": 4,
 "nbformat_minor": 4
}
