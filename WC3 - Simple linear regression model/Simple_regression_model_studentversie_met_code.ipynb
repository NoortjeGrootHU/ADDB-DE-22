{
 "cells": [
  {
   "cell_type": "markdown",
   "metadata": {},
   "source": [
    "# Simple Regression Models - Groepsopdracht voor werkcollege\n",
    "\n",
    "## Casus\n",
    "De BOVAG – een brancheorganisatie van ruim 8.000 ondernemers die zich met mobiliteit bezighouden – wil autoprijzen nauwkeuriger kunnen voorspellen. Veel van de bij BOVAG aangesloten organisaties zijn gespecialiseerd in de handel in personenauto’s en zoeken namelijk naar een model waarop ze hun autoprijzen kunnen baseren. Omdat het vaak kleine organisaties (lees: garages) zijn, beschikken ze zelf niet over de capaciteiten en expertises om zo’n model te ontwikkelen. Daarom wordt dit vraagstuk door BOVAG opgepakt. \n",
    "\n",
    "Op basis van een beschikbare dataset met daarin data van 205 personenauto’s wil men dit model ontwikkelen. Jullie worden ingehuurd om dit model te ontwikkelen en BOVAG te adviseren. In dit werkcollege en het komende werkcollege gaan jullie stapsgewijs dit model ontwikkelen en prijsvoorspellingen ontwikkelen voor veel voorkomende typen auto’s. \n",
    "\n",
    "In dit werkcollege starten jullie met de ontwikkeling van het model door de data te verkennen met behulp van simpele regressiemodellen: modellen met telkens één andere predictor (X) en dezelfde outcome, namelijk de prijs van een auto (Y). \n",
    "\n",
    "Deze Y heeft als variabelenaam ***price*** en is van *ratio* meetniveau.\n",
    "\n",
    "Jullie gaan in dit werkcollege vier modellen onderzoeken. In de tabel hieronder zie je welke predictor in welk model centraal staat:"
   ]
  },
  {
   "cell_type": "markdown",
   "metadata": {},
   "source": [
    "| Model | Predictor (X) | Variabelenaam | Meetniveau |\n",
    "| :--- | :--- | :--- | :--- |\n",
    "| 1 | Maximum aantal omwentelingen van de as per minuut | peakrpm | Ratio | \n",
    "| 2 | Omvang van de motor | enginesize | Ratio |\n",
    "| 3 | PK (vermogen) | horsepower | Ratio |\n",
    "| 4 | Carrosserie | carbody | Nominaal |"
   ]
  },
  {
   "cell_type": "markdown",
   "metadata": {},
   "source": [
    "Installeer en importeer eerst onderstaande Python packages door deze code te runnen:"
   ]
  },
  {
   "cell_type": "code",
   "execution_count": null,
   "metadata": {},
   "outputs": [],
   "source": [
    "! pip install numpy pandas statsmodels"
   ]
  },
  {
   "cell_type": "code",
   "execution_count": 1,
   "metadata": {},
   "outputs": [
    {
     "name": "stderr",
     "output_type": "stream",
     "text": [
      "C:\\ProgramData\\Anaconda3\\lib\\site-packages\\statsmodels\\compat\\pandas.py:56: FutureWarning: The pandas.core.datetools module is deprecated and will be removed in a future version. Please use the pandas.tseries module instead.\n",
      "  from pandas.core import datetools\n"
     ]
    }
   ],
   "source": [
    "import numpy as np\n",
    "import pandas as pd\n",
    "import statsmodels.api as sm"
   ]
  },
  {
   "cell_type": "markdown",
   "metadata": {},
   "source": [
    "## Stap 1: Beschrijvende analyses\n",
    "\n",
    "Vraag via onderstaande code de volgende centrum- en spreidingsmaten op voor de variabelen: gemiddelde, standaard deviatie (SD) en bereik (mininum en maximum).\n",
    "\n",
    "Bedenk waarom deze beschrijvende statistieken voor de variabele ‘carbody’ niet worden weergeven. "
   ]
  },
  {
   "cell_type": "code",
   "execution_count": null,
   "metadata": {},
   "outputs": [],
   "source": [
    "#lees de dataset in door gebruik te maken van pd.read_csv('pad naar het juiste betand')\n",
    "carprice_df = pd.read_csv(\"vul hier het pad in naar CarPrice_Assignment.csv\")"
   ]
  },
  {
   "cell_type": "code",
   "execution_count": 2,
   "metadata": {},
   "outputs": [],
   "source": [
    "#antwoord\n",
    "carprice_df = pd.read_csv('../Werkcolleges/WC3 - Simple regression model/Data/CarPrice_Assignment.csv')"
   ]
  },
  {
   "cell_type": "markdown",
   "metadata": {},
   "source": [
    "Maak gebruik van de .describe() functie om de statistieken van de hierboven genoemde kolommen op te vragen."
   ]
  },
  {
   "cell_type": "code",
   "execution_count": null,
   "metadata": {},
   "outputs": [],
   "source": [
    "#Vraag centrum- en spreidingsmaten op\n",
    "carprice_df[[\"Definieer hier de predictoren\"]].describe()"
   ]
  },
  {
   "cell_type": "code",
   "execution_count": 3,
   "metadata": {},
   "outputs": [
    {
     "data": {
      "text/html": [
       "<div>\n",
       "<style>\n",
       "    .dataframe thead tr:only-child th {\n",
       "        text-align: right;\n",
       "    }\n",
       "\n",
       "    .dataframe thead th {\n",
       "        text-align: left;\n",
       "    }\n",
       "\n",
       "    .dataframe tbody tr th {\n",
       "        vertical-align: top;\n",
       "    }\n",
       "</style>\n",
       "<table border=\"1\" class=\"dataframe\">\n",
       "  <thead>\n",
       "    <tr style=\"text-align: right;\">\n",
       "      <th></th>\n",
       "      <th>price</th>\n",
       "      <th>peakrpm</th>\n",
       "      <th>enginesize</th>\n",
       "      <th>horsepower</th>\n",
       "    </tr>\n",
       "  </thead>\n",
       "  <tbody>\n",
       "    <tr>\n",
       "      <th>count</th>\n",
       "      <td>205.000000</td>\n",
       "      <td>205.000000</td>\n",
       "      <td>205.000000</td>\n",
       "      <td>205.000000</td>\n",
       "    </tr>\n",
       "    <tr>\n",
       "      <th>mean</th>\n",
       "      <td>13276.710571</td>\n",
       "      <td>5125.121951</td>\n",
       "      <td>126.907317</td>\n",
       "      <td>104.117073</td>\n",
       "    </tr>\n",
       "    <tr>\n",
       "      <th>std</th>\n",
       "      <td>7988.852332</td>\n",
       "      <td>476.985643</td>\n",
       "      <td>41.642693</td>\n",
       "      <td>39.544167</td>\n",
       "    </tr>\n",
       "    <tr>\n",
       "      <th>min</th>\n",
       "      <td>5118.000000</td>\n",
       "      <td>4150.000000</td>\n",
       "      <td>61.000000</td>\n",
       "      <td>48.000000</td>\n",
       "    </tr>\n",
       "    <tr>\n",
       "      <th>25%</th>\n",
       "      <td>7788.000000</td>\n",
       "      <td>4800.000000</td>\n",
       "      <td>97.000000</td>\n",
       "      <td>70.000000</td>\n",
       "    </tr>\n",
       "    <tr>\n",
       "      <th>50%</th>\n",
       "      <td>10295.000000</td>\n",
       "      <td>5200.000000</td>\n",
       "      <td>120.000000</td>\n",
       "      <td>95.000000</td>\n",
       "    </tr>\n",
       "    <tr>\n",
       "      <th>75%</th>\n",
       "      <td>16503.000000</td>\n",
       "      <td>5500.000000</td>\n",
       "      <td>141.000000</td>\n",
       "      <td>116.000000</td>\n",
       "    </tr>\n",
       "    <tr>\n",
       "      <th>max</th>\n",
       "      <td>45400.000000</td>\n",
       "      <td>6600.000000</td>\n",
       "      <td>326.000000</td>\n",
       "      <td>288.000000</td>\n",
       "    </tr>\n",
       "  </tbody>\n",
       "</table>\n",
       "</div>"
      ],
      "text/plain": [
       "              price      peakrpm  enginesize  horsepower\n",
       "count    205.000000   205.000000  205.000000  205.000000\n",
       "mean   13276.710571  5125.121951  126.907317  104.117073\n",
       "std     7988.852332   476.985643   41.642693   39.544167\n",
       "min     5118.000000  4150.000000   61.000000   48.000000\n",
       "25%     7788.000000  4800.000000   97.000000   70.000000\n",
       "50%    10295.000000  5200.000000  120.000000   95.000000\n",
       "75%    16503.000000  5500.000000  141.000000  116.000000\n",
       "max    45400.000000  6600.000000  326.000000  288.000000"
      ]
     },
     "execution_count": 3,
     "metadata": {},
     "output_type": "execute_result"
    }
   ],
   "source": [
    "#antwoord\n",
    "carprice_df[['price', 'peakrpm','enginesize','horsepower','carbody']].describe()"
   ]
  },
  {
   "cell_type": "markdown",
   "metadata": {},
   "source": [
    "## Stap 2 - Simple Regresssion Models met *continue* predictoren\n",
    "\n",
    "Onderzoek de eerste drie modellen één voor één in Python middels onderstaande code en beantwoord de vragen. "
   ]
  },
  {
   "cell_type": "markdown",
   "metadata": {},
   "source": [
    "### Model 1"
   ]
  },
  {
   "cell_type": "code",
   "execution_count": null,
   "metadata": {},
   "outputs": [],
   "source": [
    "y = \"TODO: definieer hier de predictor door de juiste kolom te selecteren in carprice_df\"\n",
    "X = \"TODO: definieer hier de afhankelijke variabele door de juiste kolom te selecteren in carprice_df\""
   ]
  },
  {
   "cell_type": "code",
   "execution_count": 4,
   "metadata": {},
   "outputs": [],
   "source": [
    "#antwoord:\n",
    "y = carprice_df['price']\n",
    "X = carprice_df['peakrpm']"
   ]
  },
  {
   "cell_type": "markdown",
   "metadata": {},
   "source": [
    "Omdat we ook een Intercept willen opvragen in de output, voegen we een kolom met 1-en toe aan X:"
   ]
  },
  {
   "cell_type": "code",
   "execution_count": 5,
   "metadata": {},
   "outputs": [],
   "source": [
    "X = sm.add_constant(X) #add an intercept "
   ]
  },
  {
   "cell_type": "markdown",
   "metadata": {},
   "source": [
    "Vervolgens defineren we het model, we trainen hem (fit) en printen de resultaten"
   ]
  },
  {
   "cell_type": "code",
   "execution_count": 6,
   "metadata": {},
   "outputs": [
    {
     "name": "stdout",
     "output_type": "stream",
     "text": [
      "                            OLS Regression Results                            \n",
      "==============================================================================\n",
      "Dep. Variable:                  price   R-squared:                       0.007\n",
      "Model:                            OLS   Adj. R-squared:                  0.002\n",
      "Method:                 Least Squares   F-statistic:                     1.487\n",
      "Date:                Thu, 02 Jun 2022   Prob (F-statistic):              0.224\n",
      "Time:                        15:59:24   Log-Likelihood:                -2131.7\n",
      "No. Observations:                 205   AIC:                             4267.\n",
      "Df Residuals:                     203   BIC:                             4274.\n",
      "Df Model:                           1                                         \n",
      "Covariance Type:            nonrobust                                         \n",
      "==============================================================================\n",
      "                 coef    std err          t      P>|t|      [0.025      0.975]\n",
      "------------------------------------------------------------------------------\n",
      "const        2.06e+04   6028.571      3.416      0.001    8709.287    3.25e+04\n",
      "peakrpm       -1.4281      1.171     -1.219      0.224      -3.737       0.881\n",
      "==============================================================================\n",
      "Omnibus:                       76.694   Durbin-Watson:                   0.461\n",
      "Prob(Omnibus):                  0.000   Jarque-Bera (JB):              177.450\n",
      "Skew:                           1.754   Prob(JB):                     2.93e-39\n",
      "Kurtosis:                       5.911   Cond. No.                     5.57e+04\n",
      "==============================================================================\n",
      "\n",
      "Warnings:\n",
      "[1] Standard Errors assume that the covariance matrix of the errors is correctly specified.\n",
      "[2] The condition number is large, 5.57e+04. This might indicate that there are\n",
      "strong multicollinearity or other numerical problems.\n"
     ]
    }
   ],
   "source": [
    "model1 = sm.OLS(y, X)\n",
    "results1 = model1.fit()\n",
    "print(results1.summary())"
   ]
  },
  {
   "cell_type": "markdown",
   "metadata": {},
   "source": [
    "### Model 2"
   ]
  },
  {
   "cell_type": "markdown",
   "metadata": {},
   "source": [
    "In het tweede model blijft de outcome hetzelfde, maar verandert de predictor. Daarom laten we y dezelfde waarde behouden als hierboven, maar moet je X opnieuw definiëren."
   ]
  },
  {
   "cell_type": "code",
   "execution_count": null,
   "metadata": {},
   "outputs": [],
   "source": [
    "X = \"TODO: definieer hier de predictor door de juiste kolom te selecteren in carprice_df\""
   ]
  },
  {
   "cell_type": "code",
   "execution_count": null,
   "metadata": {},
   "outputs": [],
   "source": [
    "#antwoord:\n",
    "X = carprice_df['enginesize']"
   ]
  },
  {
   "cell_type": "code",
   "execution_count": null,
   "metadata": {},
   "outputs": [],
   "source": [
    "X = sm.add_constant(X) #add an intercept \n",
    "model2 = sm.OLS(y, X)\n",
    "results2 = model2.fit()\n",
    "print(results2.summary())"
   ]
  },
  {
   "cell_type": "markdown",
   "metadata": {},
   "source": [
    "### Model 3"
   ]
  },
  {
   "cell_type": "markdown",
   "metadata": {},
   "source": [
    "Ook voor model 3 kunnen blijf y gelijk, maar moeten we X opnieuw definiëren."
   ]
  },
  {
   "cell_type": "code",
   "execution_count": null,
   "metadata": {},
   "outputs": [],
   "source": [
    "X = \"TODO: definieer hier de predictor door de juiste kolom te selecteren in carprice_df\""
   ]
  },
  {
   "cell_type": "code",
   "execution_count": null,
   "metadata": {},
   "outputs": [],
   "source": [
    "#antwoord:\n",
    "X = carprice_df['horsepower']"
   ]
  },
  {
   "cell_type": "code",
   "execution_count": null,
   "metadata": {},
   "outputs": [],
   "source": [
    "X = sm.add_constant(X) #add an intercept \n",
    "model3 = sm.OLS(y, X)\n",
    "results3 = model3.fit()\n",
    "print(results3.summary())"
   ]
  },
  {
   "cell_type": "markdown",
   "metadata": {},
   "source": [
    "### Vraag 1\n",
    "*Wat betekent de R square per model? En welk model is op basis van de R square het beste in het voorspellen van de prijs van een auto?* "
   ]
  },
  {
   "cell_type": "markdown",
   "metadata": {},
   "source": [
    "Typ hier je antwoord"
   ]
  },
  {
   "cell_type": "markdown",
   "metadata": {},
   "source": [
    "### Vraag 2\n",
    "*Hoe interpreteer je de output onder F statistic? Wat betekent dit voor de verschillende modellen?* "
   ]
  },
  {
   "cell_type": "markdown",
   "metadata": {},
   "source": [
    "Typ hier je antwoord"
   ]
  },
  {
   "cell_type": "markdown",
   "metadata": {},
   "source": [
    "### Vraag 3\n",
    "*Interpreteer, indien relevant, de uitkomst onder Beta’s (coef) zeer nauwkeurig per model. *"
   ]
  },
  {
   "cell_type": "markdown",
   "metadata": {},
   "source": [
    "Typ hier je antwoord"
   ]
  },
  {
   "cell_type": "markdown",
   "metadata": {},
   "source": [
    "## Stap 3 - Simple Regression Model met *categorische* predictor\n",
    "\n",
    "Onderzoek het vierde model in Python middels onderstaande code en beantwoord de vragen. "
   ]
  },
  {
   "cell_type": "markdown",
   "metadata": {},
   "source": [
    "Het aanmaken van dummy variabelen kan heel makkelijk met de get_dummies() functie van pandas: https://pandas.pydata.org/docs/reference/api/pandas.get_dummies.html\n",
    "\n",
    "Hieronder is een deel van de code al gegeven, je hoeft alleen maar de data in te voeren, wat in dit geval de 'carbody' kolom is van carprice_df"
   ]
  },
  {
   "cell_type": "code",
   "execution_count": null,
   "metadata": {},
   "outputs": [],
   "source": [
    "carbody_dummies = pd.get_dummies(\"TODO: selecteer de kolom waar je dummies van wilt maken\")"
   ]
  },
  {
   "cell_type": "code",
   "execution_count": null,
   "metadata": {},
   "outputs": [],
   "source": [
    "#antwoord\n",
    "carbody_dummies = pd.get_dummies(carprice_df['carbody'])"
   ]
  },
  {
   "cell_type": "markdown",
   "metadata": {},
   "source": [
    "Omdat we 'sedan' als baseline gebruiken, willen we die kolom verwijderen uit *carbody_dummies*. Maak daarvoor gebruik van .drop() (zie: https://pandas.pydata.org/docs/reference/api/pandas.DataFrame.drop.html). Let op, je moet *axis = 1* meegeven om een kolom te verwijderen."
   ]
  },
  {
   "cell_type": "code",
   "execution_count": null,
   "metadata": {},
   "outputs": [],
   "source": [
    "carbody_dummies = carbody_dummies.drop(\"TODO: specificeer welke kolom je wilt droppen\", axis = 1)"
   ]
  },
  {
   "cell_type": "code",
   "execution_count": null,
   "metadata": {},
   "outputs": [],
   "source": [
    "#antwoord\n",
    "carbody_dummies = carbody_dummies.drop('sedan', axis = 1)"
   ]
  },
  {
   "cell_type": "markdown",
   "metadata": {},
   "source": [
    "Om vervolgens het model te kunnen trainen moet je weer de predictoren toewijzen aan de variabele X."
   ]
  },
  {
   "cell_type": "code",
   "execution_count": null,
   "metadata": {},
   "outputs": [],
   "source": [
    "X = \"TODO: wijs de predictoren toe aan X\""
   ]
  },
  {
   "cell_type": "code",
   "execution_count": null,
   "metadata": {},
   "outputs": [],
   "source": [
    "#antwoord\n",
    "X = carbody_dummies"
   ]
  },
  {
   "cell_type": "code",
   "execution_count": null,
   "metadata": {},
   "outputs": [],
   "source": [
    "X = sm.add_constant(X) #add intercept column\n",
    "model4 = sm.OLS(y, X)\n",
    "results4 = model4.fit()\n",
    "print(results4.summary())"
   ]
  },
  {
   "cell_type": "markdown",
   "metadata": {},
   "source": [
    "### Vraag 1\n",
    "*Wat betekent de R square van dit model? Vergelijk ook de vier onderzochte modellen: welk model is op basis van de R square het beste in het voorspellen van de prijs van een auto?* "
   ]
  },
  {
   "cell_type": "markdown",
   "metadata": {},
   "source": [
    "Typ hier je antwoord"
   ]
  },
  {
   "cell_type": "markdown",
   "metadata": {},
   "source": [
    "### Vraag 2\n",
    "*Hoe interpreteer je de output onder F statistic? Wat betekent dit voor dit model?* "
   ]
  },
  {
   "cell_type": "markdown",
   "metadata": {},
   "source": [
    "Typ hier je antwoord"
   ]
  },
  {
   "cell_type": "markdown",
   "metadata": {},
   "source": [
    "### Vraag 3\n",
    "*Interpreteer, indien relevant, de uitkomst onder Beta’s (coef) zeer nauwkeurig per variabele.* "
   ]
  },
  {
   "cell_type": "markdown",
   "metadata": {},
   "source": [
    "Typ hier je antwoord"
   ]
  },
  {
   "cell_type": "markdown",
   "metadata": {},
   "source": [
    "## Stap 4 - Conclusies en advies\n",
    "\n",
    "*Trek conclusies en breng op basis van bovenstaande resultaten een advies uit aan de opdrachtgevers van BOVAG.* \n",
    "\n",
    "Zorg ervoor dat je conclusies en advies aan de volgende criteria voldoen:\n",
    "- Conclusies: Geef een korte beschrijving van resultaten in **‘lekentaal’** (te begrijpen voor iemand zonder veel kennis van statistiek).\n",
    "- Advies: Geef concrete aanbevelingen. Schrijf bijvoorbeeld niet alleen op ‘er is vervolgonderzoek nodig’, of ‘interventies moeten gericht zijn op variabele Y’, maar geef ook concrete suggesties. "
   ]
  },
  {
   "cell_type": "markdown",
   "metadata": {},
   "source": [
    "Typ hier jullie conclusies in lekentaal"
   ]
  },
  {
   "cell_type": "markdown",
   "metadata": {},
   "source": [
    "Typ hier jullie advies"
   ]
  }
 ],
 "metadata": {
  "kernelspec": {
   "display_name": "Python 3",
   "language": "python",
   "name": "python3"
  },
  "language_info": {
   "codemirror_mode": {
    "name": "ipython",
    "version": 3
   },
   "file_extension": ".py",
   "mimetype": "text/x-python",
   "name": "python",
   "nbconvert_exporter": "python",
   "pygments_lexer": "ipython3",
   "version": "3.6.3"
  }
 },
 "nbformat": 4,
 "nbformat_minor": 4
}
